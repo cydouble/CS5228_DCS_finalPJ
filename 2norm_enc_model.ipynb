{
  "cells": [
    {
      "cell_type": "code",
      "execution_count": 3,
      "metadata": {
        "_cell_guid": "b1076dfc-b9ad-4769-8c92-a6c4dae69d19",
        "_uuid": "8f2839f25d086af736a60e9eeb907d3b93b6e0e5",
        "execution": {
          "iopub.execute_input": "2022-04-04T17:17:25.960569Z",
          "iopub.status.busy": "2022-04-04T17:17:25.959619Z",
          "iopub.status.idle": "2022-04-04T17:17:25.966077Z",
          "shell.execute_reply": "2022-04-04T17:17:25.965215Z",
          "shell.execute_reply.started": "2022-04-04T17:17:25.960517Z"
        },
        "trusted": true,
        "id": "PHeUwPfxYNL9"
      },
      "outputs": [],
      "source": [
        "# This Python 3 environment comes with many helpful analytics libraries installed\n",
        "# It is defined by the kaggle/python Docker image: https://github.com/kaggle/docker-python\n",
        "# For example, here's several helpful packages to load\n",
        "\n",
        "import numpy as np # linear algebra\n",
        "import pandas as pd # data processing, CSV file I/O (e.g. pd.read_csv)\n",
        "\n",
        "import joblib\n",
        "import matplotlib.pyplot as plt\n",
        "\n",
        "# Input data files are available in the read-only \"../input/\" directory\n",
        "# For example, running this (by clicking run or pressing Shift+Enter) will list all files under the input directory\n",
        "\n",
        "# import os\n",
        "# for dirname, _, filenames in os.walk('/kaggle/input'):\n",
        "#     for filename in filenames:\n",
        "#         print(os.path.join(dirname, filename))\n",
        "\n",
        "# You can write up to 20GB to the current directory (/kaggle/working/) that gets preserved as output when you create a version using \"Save & Run All\" \n",
        "# You can also write temporary files to /kaggle/temp/, but they won't be saved outside of the current session\n",
        "\n",
        "!mkdir predict"
      ]
    },
    {
      "cell_type": "code",
      "source": [
        "x_test_origin = pd.read_csv(\"/content/drive/MyDrive/CS 5228/input_test_before_EncNorm.csv\")\n",
        "x_train = pd.read_csv(\"/content/drive/MyDrive/CS 5228/input_train_features_before_EncNorm.csv\")\n",
        "y_train = pd.read_csv(\"/content/drive/MyDrive/CS 5228/model_input_train_prices.csv\")\n",
        "\n",
        "x_train.shape, x_test_origin.shape"
      ],
      "metadata": {
        "colab": {
          "base_uri": "https://localhost:8080/"
        },
        "id": "1jSvSciTaZtX",
        "outputId": "14518adc-716e-43dd-c471-931a769c4e11"
      },
      "execution_count": 4,
      "outputs": [
        {
          "output_type": "execute_result",
          "data": {
            "text/plain": [
              "((26048, 24), (7500, 24))"
            ]
          },
          "metadata": {},
          "execution_count": 4
        }
      ]
    },
    {
      "cell_type": "code",
      "execution_count": null,
      "metadata": {
        "execution": {
          "iopub.execute_input": "2022-04-04T17:17:25.968164Z",
          "iopub.status.busy": "2022-04-04T17:17:25.967686Z",
          "iopub.status.idle": "2022-04-04T17:17:26.267120Z",
          "shell.execute_reply": "2022-04-04T17:17:26.266295Z",
          "shell.execute_reply.started": "2022-04-04T17:17:25.968134Z"
        },
        "trusted": true,
        "id": "ieWMXaltYNMC",
        "outputId": "f64e64a1-666a-442d-b6e4-af3947049b70"
      },
      "outputs": [
        {
          "data": {
            "text/plain": [
              "((26048, 24), (7500, 24))"
            ]
          },
          "execution_count": 2,
          "metadata": {},
          "output_type": "execute_result"
        }
      ],
      "source": [
        "x_test_origin = pd.read_csv(\"input_test_before_EncNorm.csv\")\n",
        "x_train = pd.read_csv(\"input_train_features_before_EncNorm.csv\")\n",
        "y_train = pd.read_csv(\"model_input_train_prices.csv\")\n",
        "\n",
        "x_train.shape, x_test_origin.shape"
      ]
    },
    {
      "cell_type": "markdown",
      "metadata": {
        "id": "uhYNFwDxYNME"
      },
      "source": [
        "# Encode + Norm"
      ]
    },
    {
      "cell_type": "markdown",
      "metadata": {
        "id": "JetRB1CjYNMH"
      },
      "source": [
        "## Encode"
      ]
    },
    {
      "cell_type": "code",
      "source": [
        "!pip install category_encoders"
      ],
      "metadata": {
        "colab": {
          "base_uri": "https://localhost:8080/"
        },
        "id": "ebsNYqVdbIRE",
        "outputId": "a2b7d44a-9400-496b-99ff-330c651f6063"
      },
      "execution_count": 6,
      "outputs": [
        {
          "output_type": "stream",
          "name": "stdout",
          "text": [
            "Collecting category_encoders\n",
            "  Downloading category_encoders-2.4.0-py2.py3-none-any.whl (86 kB)\n",
            "\u001b[?25l\r\u001b[K     |███▉                            | 10 kB 24.7 MB/s eta 0:00:01\r\u001b[K     |███████▋                        | 20 kB 10.1 MB/s eta 0:00:01\r\u001b[K     |███████████▍                    | 30 kB 8.0 MB/s eta 0:00:01\r\u001b[K     |███████████████▏                | 40 kB 7.3 MB/s eta 0:00:01\r\u001b[K     |███████████████████             | 51 kB 4.2 MB/s eta 0:00:01\r\u001b[K     |██████████████████████▊         | 61 kB 5.0 MB/s eta 0:00:01\r\u001b[K     |██████████████████████████▌     | 71 kB 5.2 MB/s eta 0:00:01\r\u001b[K     |██████████████████████████████▎ | 81 kB 5.8 MB/s eta 0:00:01\r\u001b[K     |████████████████████████████████| 86 kB 2.9 MB/s \n",
            "\u001b[?25hRequirement already satisfied: statsmodels>=0.9.0 in /usr/local/lib/python3.7/dist-packages (from category_encoders) (0.10.2)\n",
            "Requirement already satisfied: scipy>=1.0.0 in /usr/local/lib/python3.7/dist-packages (from category_encoders) (1.4.1)\n",
            "Requirement already satisfied: numpy>=1.14.0 in /usr/local/lib/python3.7/dist-packages (from category_encoders) (1.21.5)\n",
            "Requirement already satisfied: patsy>=0.5.1 in /usr/local/lib/python3.7/dist-packages (from category_encoders) (0.5.2)\n",
            "Requirement already satisfied: pandas>=0.21.1 in /usr/local/lib/python3.7/dist-packages (from category_encoders) (1.3.5)\n",
            "Requirement already satisfied: scikit-learn>=0.20.0 in /usr/local/lib/python3.7/dist-packages (from category_encoders) (1.0.2)\n",
            "Requirement already satisfied: pytz>=2017.3 in /usr/local/lib/python3.7/dist-packages (from pandas>=0.21.1->category_encoders) (2018.9)\n",
            "Requirement already satisfied: python-dateutil>=2.7.3 in /usr/local/lib/python3.7/dist-packages (from pandas>=0.21.1->category_encoders) (2.8.2)\n",
            "Requirement already satisfied: six in /usr/local/lib/python3.7/dist-packages (from patsy>=0.5.1->category_encoders) (1.15.0)\n",
            "Requirement already satisfied: threadpoolctl>=2.0.0 in /usr/local/lib/python3.7/dist-packages (from scikit-learn>=0.20.0->category_encoders) (3.1.0)\n",
            "Requirement already satisfied: joblib>=0.11 in /usr/local/lib/python3.7/dist-packages (from scikit-learn>=0.20.0->category_encoders) (1.1.0)\n",
            "Installing collected packages: category-encoders\n",
            "Successfully installed category-encoders-2.4.0\n"
          ]
        }
      ]
    },
    {
      "cell_type": "code",
      "execution_count": 7,
      "metadata": {
        "execution": {
          "iopub.execute_input": "2022-04-04T17:17:26.268839Z",
          "iopub.status.busy": "2022-04-04T17:17:26.268583Z",
          "iopub.status.idle": "2022-04-04T17:17:26.781558Z",
          "shell.execute_reply": "2022-04-04T17:17:26.780756Z",
          "shell.execute_reply.started": "2022-04-04T17:17:26.268809Z"
        },
        "trusted": true,
        "colab": {
          "base_uri": "https://localhost:8080/"
        },
        "id": "jpYNtK4BYNMI",
        "outputId": "adfe1ded-ed08-4100-de6b-5d88cb9f615e"
      },
      "outputs": [
        {
          "output_type": "stream",
          "name": "stderr",
          "text": [
            "/usr/local/lib/python3.7/dist-packages/statsmodels/tools/_testing.py:19: FutureWarning: pandas.util.testing is deprecated. Use the functions in the public API at pandas.testing instead.\n",
            "  import pandas.util.testing as tm\n"
          ]
        },
        {
          "output_type": "stream",
          "name": "stdout",
          "text": [
            "x_test_origin: (7500, 24)\n",
            "after encoding, shape (26048, 33) (7500, 33)\n"
          ]
        }
      ],
      "source": [
        "from pandas.api.types import is_string_dtype,is_numeric_dtype\n",
        "import category_encoders as ce\n",
        "import copy\n",
        "\n",
        "x_train_enc = copy.deepcopy(x_train)\n",
        "print(\"x_test_origin:\", x_test_origin.shape)\n",
        "x_test_enc = copy.deepcopy(x_test_origin)\n",
        "\n",
        "# Select a encoder\n",
        "# target_enc = ce.CatBoostEncoder()\n",
        "# target_enc = ce.TargetEncoder()\n",
        "target_enc = ce.LeaveOneOutEncoder()\n",
        "\n",
        "\n",
        "#! encode the following high-cardinality feature\n",
        "enc= ['name','street_name','planning_area','subszone']\n",
        "# any one of them to drop\n",
        "# enc= [fea for fea in ['name','street_no_num','planning_area','subszone'] if fea not in drop_feas]\n",
        "\n",
        "tenc = target_enc.fit(x_train_enc[enc], y_train)\n",
        "x_train_enc = x_train_enc.join(tenc.transform(x_train_enc[enc]).add_suffix('_cb'))\n",
        "x_train_enc=x_train_enc.drop(enc,axis=1)\n",
        "\n",
        "x_test_enc=x_test_enc.join(tenc.transform(x_test_enc[enc]).add_suffix('_cb'))\n",
        "x_test_enc=x_test_enc.drop(enc,axis=1)\n",
        "# print(x_test_enc.shape)\n",
        "\n",
        "#! one-hot enocde the low-cardinality feature\n",
        "for i in x_train_enc.columns:\n",
        "    if is_string_dtype(x_train_enc[i]):\n",
        "        # print(i)\n",
        "        x_train_enc=x_train_enc.join(pd.get_dummies(x_train_enc[i],prefix=i))\n",
        "        x_train_enc=x_train_enc.drop(i,axis=1)\n",
        "        \n",
        "for i in x_test_enc.columns:\n",
        "    if is_string_dtype(x_test_enc[i]):\n",
        "        # print(i)\n",
        "        x_test_enc=x_test_enc.join(pd.get_dummies(x_test_enc[i],prefix=i))\n",
        "        x_test_enc=x_test_enc.drop(i,axis=1)\n",
        "\n",
        "features = x_train_enc.columns.copy()\n",
        "\n",
        "print('after encoding, shape', x_train_enc.shape, x_test_enc.shape)\n",
        "assert x_train_enc.shape[1] == x_test_enc.shape[1], 'worng feature dim'"
      ]
    },
    {
      "cell_type": "code",
      "execution_count": 8,
      "metadata": {
        "execution": {
          "iopub.execute_input": "2022-04-04T17:17:26.783176Z",
          "iopub.status.busy": "2022-04-04T17:17:26.782965Z",
          "iopub.status.idle": "2022-04-04T17:17:41.737876Z",
          "shell.execute_reply": "2022-04-04T17:17:41.737024Z",
          "shell.execute_reply.started": "2022-04-04T17:17:26.783151Z"
        },
        "trusted": true,
        "id": "HiiXgiPMYNMK"
      },
      "outputs": [],
      "source": [
        "# impute the rest NA values\n",
        "from sklearn.impute import KNNImputer\n",
        "\n",
        "imputer = KNNImputer(n_neighbors=2)\n",
        "impt = imputer.fit(x_train_enc)\n",
        "x_train_enc=impt.transform(x_train_enc)\n",
        "x_test_enc=impt.transform(x_test_enc)"
      ]
    },
    {
      "cell_type": "markdown",
      "metadata": {
        "id": "KJDntAQfYNML"
      },
      "source": [
        "## Normalization: RobustScaler + Standardize，"
      ]
    },
    {
      "cell_type": "code",
      "execution_count": 9,
      "metadata": {
        "execution": {
          "iopub.execute_input": "2022-04-04T17:17:41.740502Z",
          "iopub.status.busy": "2022-04-04T17:17:41.739953Z",
          "iopub.status.idle": "2022-04-04T17:17:41.746291Z",
          "shell.execute_reply": "2022-04-04T17:17:41.745106Z",
          "shell.execute_reply.started": "2022-04-04T17:17:41.740457Z"
        },
        "trusted": true,
        "id": "PN0N77IPYNMX"
      },
      "outputs": [],
      "source": [
        "from sklearn.preprocessing import StandardScaler,Normalizer,RobustScaler\n",
        "\n",
        "from sklearn.model_selection import train_test_split\n",
        "\n",
        "#some classifiers requiring preprocessed inputs\n",
        "def standardize(x):\n",
        "    scaler=StandardScaler()\n",
        "    scl = scaler.fit(x)\n",
        "    return scl\n",
        "\n",
        "def robustScale(x):\n",
        "    scaler = RobustScaler()\n",
        "    scl = scaler.fit(x)\n",
        "    return scl\n"
      ]
    },
    {
      "cell_type": "code",
      "execution_count": 10,
      "metadata": {
        "execution": {
          "iopub.execute_input": "2022-04-04T17:24:54.169008Z",
          "iopub.status.busy": "2022-04-04T17:24:54.168595Z",
          "iopub.status.idle": "2022-04-04T17:24:54.212120Z",
          "shell.execute_reply": "2022-04-04T17:24:54.211363Z",
          "shell.execute_reply.started": "2022-04-04T17:24:54.168973Z"
        },
        "trusted": true,
        "id": "fOTZg2CrYNMY"
      },
      "outputs": [],
      "source": [
        "# If only standardize\n",
        "# scl = standardize(x_train_enc)\n",
        "# x_train_norm = scl.transform(x_train_enc)\n",
        "# x_test_norm = scl.transform(x_test_enc)\n",
        "\n",
        "# Robust + Standardize\n",
        "scaler_robust = robustScale(x_train_enc)\n",
        "x_train_norm = scaler_robust.transform(x_train_enc) \n",
        "x_test_norm = scaler_robust.transform(x_test_enc)\n",
        "\n",
        "scl = standardize(x_train_norm)\n",
        "x_train_norm = scl.transform(x_train_norm)\n",
        "x_test_norm = scl.transform(x_test_norm)\n",
        "\n",
        "# x_train_norm.shape\n",
        "x_train_norm=pd.DataFrame(data=x_train_norm,columns=features)\n",
        "x_test_norm=pd.DataFrame(data=x_test_norm,columns=features)"
      ]
    },
    {
      "cell_type": "code",
      "execution_count": 11,
      "metadata": {
        "colab": {
          "base_uri": "https://localhost:8080/"
        },
        "id": "_e5fsN99YNMa",
        "outputId": "25e759a3-65ab-4ee2-a556-d317de713362"
      },
      "outputs": [
        {
          "output_type": "execute_result",
          "data": {
            "text/plain": [
              "((26048, 33), (7500, 33))"
            ]
          },
          "metadata": {},
          "execution_count": 11
        }
      ],
      "source": [
        "# # PCA\n",
        "# from sklearn.decomposition import PCA\n",
        "# pca_model = PCA(n_components=20)\n",
        "# x_train_norm = pca_model.fit_transform(x_train_norm)\n",
        "# x_test_norm = pca_model.transform(x_test_norm)\n",
        "\n",
        "x_train_norm.shape, x_test_norm.shape"
      ]
    },
    {
      "cell_type": "markdown",
      "metadata": {
        "id": "zg1y0OlIYNMb"
      },
      "source": [
        "# Split into train and test"
      ]
    },
    {
      "cell_type": "code",
      "execution_count": 12,
      "metadata": {
        "execution": {
          "iopub.execute_input": "2022-04-04T17:39:01.810303Z",
          "iopub.status.busy": "2022-04-04T17:39:01.809590Z",
          "iopub.status.idle": "2022-04-04T17:39:01.827264Z",
          "shell.execute_reply": "2022-04-04T17:39:01.826653Z",
          "shell.execute_reply.started": "2022-04-04T17:39:01.810264Z"
        },
        "trusted": true,
        "id": "I3V_1HZ4YNMb"
      },
      "outputs": [],
      "source": [
        "from sklearn.model_selection import train_test_split\n",
        "\n",
        "# reshape to 1D, avoid warning\n",
        "y_train_origin = y_train.price.ravel()\n",
        "\n",
        "x_train,x_valid,y_train,y_valid = train_test_split(\n",
        "        x_train_norm,\n",
        "        y_train_origin,\n",
        "        test_size=1/4,\n",
        "        # random_state=2\n",
        ")\n",
        "\n",
        "from sklearn.model_selection import cross_val_score\n",
        "from sklearn.model_selection import GridSearchCV\n",
        "from sklearn.metrics import mean_squared_error, r2_score\n",
        "\n",
        "def rmse_scaled(y_true, y_pred):\n",
        "    rmse = np.sqrt(mean_squared_error(y_true, y_pred))\n",
        "    scale = np.sqrt(np.mean(y_true**2))\n",
        "#     return rmse/scale\n",
        "    return rmse"
      ]
    },
    {
      "cell_type": "markdown",
      "metadata": {
        "id": "uCH01OK6YNMc"
      },
      "source": [
        "# Model"
      ]
    },
    {
      "cell_type": "markdown",
      "source": [
        "## Linear Regression"
      ],
      "metadata": {
        "id": "I5rOOKe9ZFEe"
      }
    },
    {
      "cell_type": "code",
      "source": [
        "from sklearn.linear_model import LinearRegression\n",
        "\n",
        "lm = LinearRegression()\n",
        "lm.fit(x_train,y_train)\n",
        "\n",
        "train_predict = lm.predict(x_train)\n",
        "print(f'Training RMSE:{rmse_scaled(train_predict,y_train)}, R2:{r2_score(train_predict,y_train)}')\n",
        "\n",
        "valid_predict = lm.predict(x_valid)\n",
        "print(f'Validation RMSE:{rmse_scaled(valid_predict,y_valid)}, R2:{r2_score(valid_predict,y_valid)}')"
      ],
      "metadata": {
        "colab": {
          "base_uri": "https://localhost:8080/"
        },
        "id": "UGF93XA0Ze8f",
        "outputId": "958122de-9707-4f4b-977f-eb9f203fbe27"
      },
      "execution_count": 14,
      "outputs": [
        {
          "output_type": "stream",
          "name": "stdout",
          "text": [
            "Training RMSE:1.765585597725775, R2:0.8007573193213754\n",
            "Validation RMSE:1.702748648354061, R2:0.8152789765632555\n"
          ]
        }
      ]
    },
    {
      "cell_type": "markdown",
      "metadata": {
        "id": "GeDvmusGYNMd"
      },
      "source": [
        "## Random Forest Regressor\n"
      ]
    },
    {
      "cell_type": "markdown",
      "metadata": {
        "id": "DmeUcFkaYNMd"
      },
      "source": [
        "### 1 load RF parameters from local"
      ]
    },
    {
      "cell_type": "code",
      "execution_count": null,
      "metadata": {
        "id": "Se3EuYmCYNMe",
        "outputId": "0f3b968c-3e8f-4a7c-87d3-0f51ce05bb9f"
      },
      "outputs": [
        {
          "name": "stdout",
          "output_type": "stream",
          "text": [
            "RandomForestRegressor(max_depth=18, min_samples_split=4, n_estimators=160,\n",
            "                      random_state=10)\n",
            "4-CV mean rmse:0.7645343087109594\n"
          ]
        }
      ],
      "source": [
        "# Load models\n",
        "## ! not trained!\n",
        "rf1 =joblib.load('models/rf_allfea.model')\n",
        "print(rf1)\n",
        "\n",
        "# CV mean rese\n",
        "kfold = 4\n",
        "mean_rmse = -cross_val_score(rf1, x_train_norm, y_train_origin, \n",
        "                             cv=kfold,\n",
        "                             scoring='neg_root_mean_squared_error').mean()\n",
        "print(f\"{kfold}-CV mean rmse:{mean_rmse}\")\n"
      ]
    },
    {
      "cell_type": "code",
      "execution_count": null,
      "metadata": {
        "id": "Sm-wB7lRYNMf"
      },
      "outputs": [],
      "source": [
        "# fit train before predict\n",
        "rf1.fit(x_train_norm, y_train_origin)\n",
        "\n",
        "# Predict\n",
        "test_predict = rf1.predict(x_test_norm)\n",
        "test_predict = test_predict*1000000\n",
        "res=pd.DataFrame(data=test_predict,columns=['Predicted'])\n",
        "res['Id'] = res.index\n",
        "res = res[['Id','Predicted']]\n",
        "\n",
        "res.to_csv('./predict/rf1.csv',index=False)"
      ]
    },
    {
      "cell_type": "markdown",
      "metadata": {
        "id": "o9EfAddDYNMg"
      },
      "source": [
        "### 2 Or Train(grid search) from scratch\n",
        "\n",
        "Uncomment the cell!"
      ]
    },
    {
      "cell_type": "code",
      "execution_count": null,
      "metadata": {
        "id": "WcR6iq2mYNMh",
        "outputId": "f11bcfb3-b840-4502-abd7-6bbbdc140942"
      },
      "outputs": [
        {
          "name": "stdout",
          "output_type": "stream",
          "text": [
            "Fitting 4 folds for each of 72 candidates, totalling 288 fits\n"
          ]
        },
        {
          "name": "stderr",
          "output_type": "stream",
          "text": [
            "[Parallel(n_jobs=6)]: Using backend LokyBackend with 6 concurrent workers.\n",
            "[Parallel(n_jobs=6)]: Done  38 tasks      | elapsed:  1.6min\n",
            "[Parallel(n_jobs=6)]: Done 188 tasks      | elapsed:  9.1min\n",
            "[Parallel(n_jobs=6)]: Done 288 out of 288 | elapsed: 14.5min finished\n"
          ]
        },
        {
          "name": "stdout",
          "output_type": "stream",
          "text": [
            "4-CV best fit: {'max_depth': 17, 'min_samples_split': 2, 'n_estimators': 150} \n",
            "CV rmse 0.7502110694048203\n",
            "val RMSE:0.23693678008595784, R2:0.9968632880075158\n"
          ]
        }
      ],
      "source": [
        "# from sklearn.ensemble import RandomForestRegressor\n",
        "# # 网格调参\n",
        "\n",
        "# # 子树数量 + decision tree 深度/min smaple split\n",
        "# param_test1 = {'n_estimators':range(110, 221, 20),\n",
        "#             #    'max_depth':range(14,23,2),\n",
        "#                 'max_depth':range(15,26,2),\n",
        "#                'min_samples_split':range(2,4,1)\n",
        "#                }\n",
        "# kfold = 4\n",
        "# gsearch1 = GridSearchCV(estimator = RandomForestRegressor(), \n",
        "#                        param_grid = param_test1, scoring='neg_root_mean_squared_error', \n",
        "#                        verbose=1,\n",
        "#                        n_jobs = 6,\n",
        "#                        cv=kfold)\n",
        "\n",
        "# # CV on all data, auto solit\n",
        "# # gsearch1.fit(x_train_norm, y_train_origin)\n",
        "# print(f\"{kfold}-CV best params:\", gsearch1.best_params_, \"\\nCV rmse\", -gsearch1.best_score_)\n",
        "\n",
        "\n",
        "# # get best model\n",
        "# rf1 = gsearch1.best_estimator_\n",
        "\n",
        "# # RMSE\n",
        "# # valid_predict = rf1.predict(x_valid)\n",
        "# # print(f'val RMSE:{rmse_scaled(valid_predict,y_valid)}, R2:{r2_score(valid_predict,y_valid)}')\n",
        "# # print(f\"CV rmse:{-cross_val_score(rf1, x_train_norm, y_train_origin, cv=5, scoring='neg_root_mean_squared_error').mean()}\")\n",
        "\n",
        "# ! predict\n",
        "# test_predict = rf1.predict(x_test_norm)\n",
        "# test_predict = test_predict*1000000\n",
        "# res=pd.DataFrame(data=test_predict,columns=['Predicted'])\n",
        "# res['Id'] = res.index\n",
        "# res = res[['Id','Predicted']]\n",
        "\n",
        "# # output\n",
        "# res.to_csv('./predict/rf.csv',index=False)\n"
      ]
    },
    {
      "cell_type": "markdown",
      "metadata": {
        "id": "MfMoFmNMYNMi"
      },
      "source": [
        "### Feature Importance Analysis"
      ]
    },
    {
      "cell_type": "markdown",
      "metadata": {
        "id": "h_VOGmz3YNMi"
      },
      "source": [
        "#### Impurity-based feature importances"
      ]
    },
    {
      "cell_type": "code",
      "execution_count": null,
      "metadata": {
        "id": "3T5wHYsEYNMj",
        "outputId": "45b13485-67f5-4693-c251-f94fd2e11287"
      },
      "outputs": [
        {
          "data": {
            "text/plain": [
              "<Figure size 800x640 with 0 Axes>"
            ]
          },
          "metadata": {},
          "output_type": "display_data"
        },
        {
          "data": {
            "image/png": "[encoded data removed]",
            "text/plain": [
              "<Figure size 1080x720 with 1 Axes>"
            ]
          },
          "metadata": {
            "needs_background": "light"
          },
          "output_type": "display_data"
        }
      ],
      "source": [
        "# MDI distribution\n",
        "\n",
        "def draw_MDI_dist(rf, X):\n",
        "    plt.figure(num=None, figsize=(10,8), dpi=80, facecolor='w', edgecolor='k')\n",
        "\n",
        "\n",
        "    importances = rf.feature_importances_\n",
        "    sorted_MDI_importances = pd.Series(importances, index=X.columns).sort_values(ascending=False)\n",
        "\n",
        "    fig, ax = plt.subplots(figsize=(15,10))\n",
        "\n",
        "    std = np.std([tree.feature_importances_ for tree in rf.estimators_], axis=0)\n",
        "    sorted_MDI_importances.sort_values(ascending=False).plot.bar(yerr=std, ax=ax)\n",
        "    ax.set_title(\"Featue importances using Mean Decrease Impurity\")\n",
        "    ax.set_ylabel(\"Mean decrease in impurity\")\n",
        "    fig.tight_layout()\n",
        "    \n",
        "    return sorted_MDI_importances\n",
        "\n",
        "MDI_importances = draw_MDI_dist(rf1, x_train_norm)\n"
      ]
    },
    {
      "cell_type": "markdown",
      "metadata": {
        "id": "nyftLjFaYNMj"
      },
      "source": [
        "#### Drop some less important features\n",
        "\n",
        "customize the number of dropping"
      ]
    },
    {
      "cell_type": "code",
      "execution_count": null,
      "metadata": {
        "id": "r0K_-O-3YNMj",
        "outputId": "ae92294a-370f-44a1-d0d9-5737fa2da5dd"
      },
      "outputs": [
        {
          "name": "stdout",
          "output_type": "stream",
          "text": [
            "['model_type_condominium_townhouse', 'model_type_apartment_condominium', 'region_north region', 'region_north-east region', 'model_type_condominium_executive condominium']\n"
          ]
        },
        {
          "data": {
            "text/plain": [
              "((26048, 28), (7500, 28), (19536, 28), (6512, 28))"
            ]
          },
          "execution_count": 12,
          "metadata": {},
          "output_type": "execute_result"
        }
      ],
      "source": [
        "drop_no = 5  # customize the number\n",
        "drop_feas = list(MDI_importances.nsmallest(drop_no).index)\n",
        "\n",
        "print(drop_feas)\n",
        "\n",
        "\n",
        "X_rf_drop = x_train_norm.drop(drop_feas, axis=1)\n",
        "X_test_rf_drop = x_test_norm.drop(drop_feas, axis=1)\n",
        "\n",
        "\n",
        "x_train, x_valid, y_train,y_valid = train_test_split(\n",
        "        X_rf_drop,\n",
        "        y_train_origin,\n",
        "        test_size=1/4,\n",
        "        # random_state=2\n",
        ")\n",
        "\n",
        "\n",
        "X_rf_drop.shape, X_test_rf_drop.shape, x_train.shape, x_valid.shape"
      ]
    },
    {
      "cell_type": "markdown",
      "metadata": {
        "id": "ZRZjr8d6YNMk"
      },
      "source": [
        "#### Grid Search again, on less features\n",
        "\n",
        "Uncomment the cell!"
      ]
    },
    {
      "cell_type": "code",
      "execution_count": null,
      "metadata": {
        "id": "CvXRjlYsYNMk"
      },
      "outputs": [],
      "source": [
        "# from sklearn.ensemble import RandomForestRegressor\n",
        "# # ! less features, less tree!\n",
        "\n",
        "# # 子树数量 + decision tree 深度/min smaple split\n",
        "# param_test1 = {'n_estimators':range(100, 201, 20),\n",
        "#                'max_depth':range(14,21,2),\n",
        "#             #    'min_samples_split':range(2,4,1)\n",
        "#                }\n",
        "# kfold = 4\n",
        "# gsearch1 = GridSearchCV(estimator = RandomForestRegressor(), \n",
        "#                        param_grid = param_test1, \n",
        "#                        scoring='neg_root_mean_squared_error', \n",
        "#                        verbose= 1,\n",
        "#                        n_jobs = 6,\n",
        "#                        cv=kfold)\n",
        "\n",
        "# # CV on all data, auto solit\n",
        "# gsearch1.fit(X_rf_drop, y_train_origin)\n",
        "# print(f\"{kfold}-CV best params:\", gsearch1.best_params_, \"\\nCV mean rmse\", -gsearch1.best_score_)\n",
        "\n",
        "# # get best model and its has trained!\n",
        "# rf2 = gsearch1.best_estimator_\n",
        "\n",
        "# # RMSE\n",
        "# # valid_predict = rf1.predict(x_valid)\n",
        "# # print(f'val RMSE:{rmse_scaled(valid_predict,y_valid)}, R2:{r2_score(valid_predict,y_valid)}')\n",
        "# # print(f\"CV rmse:{-cross_val_score(rf1, x_train_norm, y_train_origin, cv=5, scoring='neg_root_mean_squared_error').mean()}\")\n",
        "\n",
        "# joblib.dump(rf2, f\"models/rf_drop{drop_no}feat_{-round(gsearch1.best_score_,3)}.model\")\n",
        "\n",
        "# # show new MDI dist.\n",
        "\n",
        "# MDI_importances2 = draw_MDI_dist(rf2, X_rf_drop);\n",
        "\n",
        "\n",
        "# # use rf2 with less feature to predict\n",
        "# # ! predict\n",
        "# test_predict = rf2.predict(X_test_rf_drop)\n",
        "# test_predict = test_predict*1000000\n",
        "# res=pd.DataFrame(data=test_predict,columns=['Predicted'])\n",
        "# res['Id'] = res.index\n",
        "# res = res[['Id','Predicted']]\n",
        "\n",
        "# # output\n",
        "# res.to_csv(f'./predict/rf_drop{drop_no}feat.csv',index=False)\n"
      ]
    },
    {
      "cell_type": "markdown",
      "metadata": {
        "id": "gkOH-BEcYNMk"
      },
      "source": [
        "continue further dropping ..."
      ]
    },
    {
      "cell_type": "markdown",
      "metadata": {
        "id": "1H3ZYdMOYNMl"
      },
      "source": [
        "## GBDT"
      ]
    },
    {
      "cell_type": "code",
      "execution_count": null,
      "metadata": {
        "id": "4o17cvH2YNMl"
      },
      "outputs": [],
      "source": [
        "from sklearn.ensemble import GradientBoostingRegressor"
      ]
    },
    {
      "cell_type": "markdown",
      "metadata": {
        "id": "82g4lalfYNMl"
      },
      "source": [
        "\n",
        "### 1 load GBDT parameters from local"
      ]
    },
    {
      "cell_type": "code",
      "execution_count": null,
      "metadata": {
        "id": "VnjW02Q2YNMl",
        "outputId": "4670324e-aefc-4e40-aef2-c909421dfb02"
      },
      "outputs": [
        {
          "name": "stdout",
          "output_type": "stream",
          "text": [
            "GradientBoostingRegressor(alpha=0.7, max_depth=10, n_estimators=900,\n",
            "                          random_state=10, subsample=0.8)\n",
            "3-CV mean rmse:0.7114191046554105\n"
          ]
        }
      ],
      "source": [
        "gbdt1 = joblib.load('models/gbdt1.model')\n",
        "print(gbdt1)\n",
        "\n",
        "kfold = 3\n",
        "mean_rmse = - cross_val_score(gbdt1, x_train_norm, y_train_origin, \n",
        "                             cv=kfold,\n",
        "                             n_jobs=5,\n",
        "                             scoring='neg_root_mean_squared_error').mean()\n",
        "print(f\"{kfold}-CV mean rmse:{mean_rmse}\")"
      ]
    },
    {
      "cell_type": "code",
      "execution_count": null,
      "metadata": {
        "id": "rgqXUV1TYNMm"
      },
      "outputs": [],
      "source": [
        "\n",
        "# fit train before predict\n",
        "gbdt1.fit(x_train_norm, y_train_origin)\n",
        "\n",
        "# prediction\n",
        "test_predict = gbdt1.predict(x_test_norm)\n",
        "test_predict = test_predict*1000000\n",
        "\n",
        "res=pd.DataFrame(data=test_predict,columns=['Predicted'])\n",
        "res['Id'] = res.index\n",
        "res = res[['Id','Predicted']]\n",
        "\n",
        "# output\n",
        "res.to_csv(f'./predict/gbdt1.csv',index=False)"
      ]
    },
    {
      "cell_type": "markdown",
      "metadata": {
        "id": "RKqAsnx-YNMm"
      },
      "source": [
        "### 2 Or Grid Search from scratch\n",
        "\n",
        "Uncomment the cell!"
      ]
    },
    {
      "cell_type": "code",
      "execution_count": null,
      "metadata": {
        "id": "Bj_pGHfSYNMn",
        "outputId": "ef453f01-392b-46ff-fe55-35b73afb3e28"
      },
      "outputs": [
        {
          "name": "stdout",
          "output_type": "stream",
          "text": [
            "Fitting 4 folds for each of 12 candidates, totalling 48 fits\n"
          ]
        },
        {
          "name": "stderr",
          "output_type": "stream",
          "text": [
            "[Parallel(n_jobs=6)]: Using backend LokyBackend with 6 concurrent workers.\n"
          ]
        },
        {
          "name": "stdout",
          "output_type": "stream",
          "text": [
            "[CV] alpha=0.7, max_depth=7, n_estimators=600, subsample=0.8 .........[CV] alpha=0.7, max_depth=7, n_estimators=700, subsample=0.8 .........\n",
            "\n",
            "[CV] alpha=0.7, max_depth=7, n_estimators=700, subsample=0.8 .........\n",
            "[CV] alpha=0.7, max_depth=7, n_estimators=600, subsample=0.8 .........\n",
            "[CV] alpha=0.7, max_depth=7, n_estimators=600, subsample=0.8 .........\n",
            "[CV] alpha=0.7, max_depth=7, n_estimators=600, subsample=0.8 .........\n",
            "[CV]  alpha=0.7, max_depth=7, n_estimators=600, subsample=0.8, score=-0.594, total= 2.9min\n",
            "[CV]  alpha=0.7, max_depth=7, n_estimators=600, subsample=0.8, score=-0.829, total= 2.9min\n",
            "[CV] alpha=0.7, max_depth=7, n_estimators=700, subsample=0.8 .........\n",
            "[CV] alpha=0.7, max_depth=7, n_estimators=700, subsample=0.8 .........\n",
            "[CV]  alpha=0.7, max_depth=7, n_estimators=600, subsample=0.8, score=-0.973, total= 2.9min\n",
            "[CV] alpha=0.7, max_depth=7, n_estimators=800, subsample=0.8 .........\n",
            "[CV]  alpha=0.7, max_depth=7, n_estimators=600, subsample=0.8, score=-0.867, total= 2.9min\n",
            "[CV] alpha=0.7, max_depth=7, n_estimators=800, subsample=0.8 .........\n",
            "[CV]  alpha=0.7, max_depth=7, n_estimators=700, subsample=0.8, score=-0.592, total= 3.4min\n",
            "[CV] alpha=0.7, max_depth=7, n_estimators=800, subsample=0.8 .........\n",
            "[CV]  alpha=0.7, max_depth=7, n_estimators=700, subsample=0.8, score=-0.831, total= 3.4min\n",
            "[CV] alpha=0.7, max_depth=7, n_estimators=800, subsample=0.8 .........\n",
            "[CV]  alpha=0.7, max_depth=7, n_estimators=700, subsample=0.8, score=-0.975, total= 3.6min\n",
            "[CV]  alpha=0.7, max_depth=7, n_estimators=700, subsample=0.8, score=-0.866, total= 3.6min\n",
            "[CV] alpha=0.7, max_depth=7, n_estimators=900, subsample=0.8 .........\n",
            "[CV] alpha=0.7, max_depth=7, n_estimators=900, subsample=0.8 .........\n",
            "[CV]  alpha=0.7, max_depth=7, n_estimators=800, subsample=0.8, score=-0.829, total= 4.1min\n",
            "[CV] alpha=0.7, max_depth=7, n_estimators=900, subsample=0.8 .........\n",
            "[CV]  alpha=0.7, max_depth=7, n_estimators=800, subsample=0.8, score=-0.590, total= 4.1min\n",
            "[CV] alpha=0.7, max_depth=7, n_estimators=900, subsample=0.8 .........\n",
            "[CV]  alpha=0.7, max_depth=7, n_estimators=800, subsample=0.8, score=-0.976, total= 4.0min\n",
            "[CV] alpha=0.7, max_depth=9, n_estimators=600, subsample=0.8 .........\n",
            "[CV]  alpha=0.7, max_depth=7, n_estimators=800, subsample=0.8, score=-0.867, total= 4.0min\n",
            "[CV] alpha=0.7, max_depth=9, n_estimators=600, subsample=0.8 .........\n",
            "[CV]  alpha=0.7, max_depth=7, n_estimators=900, subsample=0.8, score=-0.588, total= 4.3min\n",
            "[CV] alpha=0.7, max_depth=9, n_estimators=600, subsample=0.8 .........\n",
            "[CV]  alpha=0.7, max_depth=7, n_estimators=900, subsample=0.8, score=-0.827, total= 4.3min\n",
            "[CV] alpha=0.7, max_depth=9, n_estimators=600, subsample=0.8 .........\n",
            "[CV]  alpha=0.7, max_depth=9, n_estimators=600, subsample=0.8, score=-0.969, total= 3.6min\n",
            "[CV] alpha=0.7, max_depth=9, n_estimators=700, subsample=0.8 .........\n",
            "[CV]  alpha=0.7, max_depth=9, n_estimators=600, subsample=0.8, score=-0.544, total= 3.6min\n",
            "[CV] alpha=0.7, max_depth=9, n_estimators=700, subsample=0.8 .........\n",
            "[CV]  alpha=0.7, max_depth=7, n_estimators=900, subsample=0.8, score=-0.974, total= 4.3min\n",
            "[CV] alpha=0.7, max_depth=9, n_estimators=700, subsample=0.8 .........\n",
            "[CV]  alpha=0.7, max_depth=7, n_estimators=900, subsample=0.8, score=-0.865, total= 4.3min\n",
            "[CV] alpha=0.7, max_depth=9, n_estimators=700, subsample=0.8 .........\n",
            "[CV]  alpha=0.7, max_depth=9, n_estimators=600, subsample=0.8, score=-0.858, total= 3.8min\n",
            "[CV] alpha=0.7, max_depth=9, n_estimators=800, subsample=0.8 .........\n",
            "[CV]  alpha=0.7, max_depth=9, n_estimators=600, subsample=0.8, score=-0.968, total= 3.8min\n",
            "[CV] alpha=0.7, max_depth=9, n_estimators=800, subsample=0.8 .........\n"
          ]
        },
        {
          "name": "stderr",
          "output_type": "stream",
          "text": [
            "[Parallel(n_jobs=6)]: Done  20 tasks      | elapsed: 14.6min\n"
          ]
        },
        {
          "name": "stdout",
          "output_type": "stream",
          "text": [
            "[CV]  alpha=0.7, max_depth=9, n_estimators=700, subsample=0.8, score=-0.973, total= 4.5min\n",
            "[CV] alpha=0.7, max_depth=9, n_estimators=800, subsample=0.8 .........\n",
            "[CV]  alpha=0.7, max_depth=9, n_estimators=700, subsample=0.8, score=-0.545, total= 4.5min\n",
            "[CV] alpha=0.7, max_depth=9, n_estimators=800, subsample=0.8 .........\n",
            "[CV]  alpha=0.7, max_depth=9, n_estimators=700, subsample=0.8, score=-0.858, total= 4.5min\n",
            "[CV] alpha=0.7, max_depth=9, n_estimators=900, subsample=0.8 .........\n",
            "[CV]  alpha=0.7, max_depth=9, n_estimators=700, subsample=0.8, score=-0.971, total= 4.5min\n",
            "[CV] alpha=0.7, max_depth=9, n_estimators=900, subsample=0.8 .........\n",
            "[CV]  alpha=0.7, max_depth=9, n_estimators=800, subsample=0.8, score=-0.967, total= 5.3min\n",
            "[CV] alpha=0.7, max_depth=9, n_estimators=900, subsample=0.8 .........\n",
            "[CV]  alpha=0.7, max_depth=9, n_estimators=800, subsample=0.8, score=-0.550, total= 5.3min\n",
            "[CV] alpha=0.7, max_depth=9, n_estimators=900, subsample=0.8 .........\n",
            "[CV]  alpha=0.7, max_depth=9, n_estimators=800, subsample=0.8, score=-0.858, total= 5.2min\n",
            "[CV] alpha=0.7, max_depth=11, n_estimators=600, subsample=0.8 ........\n",
            "[CV]  alpha=0.7, max_depth=9, n_estimators=800, subsample=0.8, score=-0.972, total= 5.2min\n",
            "[CV] alpha=0.7, max_depth=11, n_estimators=600, subsample=0.8 ........\n",
            "[CV]  alpha=0.7, max_depth=9, n_estimators=900, subsample=0.8, score=-0.965, total= 5.9min\n",
            "[CV] alpha=0.7, max_depth=11, n_estimators=600, subsample=0.8 ........\n",
            "[CV]  alpha=0.7, max_depth=9, n_estimators=900, subsample=0.8, score=-0.550, total= 5.9min\n",
            "[CV] alpha=0.7, max_depth=11, n_estimators=600, subsample=0.8 ........\n",
            "[CV]  alpha=0.7, max_depth=11, n_estimators=600, subsample=0.8, score=-0.945, total= 4.7min\n",
            "[CV] alpha=0.7, max_depth=11, n_estimators=700, subsample=0.8 ........\n",
            "[CV]  alpha=0.7, max_depth=11, n_estimators=600, subsample=0.8, score=-0.560, total= 4.7min\n",
            "[CV] alpha=0.7, max_depth=11, n_estimators=700, subsample=0.8 ........\n",
            "[CV]  alpha=0.7, max_depth=9, n_estimators=900, subsample=0.8, score=-0.856, total= 5.8min\n",
            "[CV] alpha=0.7, max_depth=11, n_estimators=700, subsample=0.8 ........\n",
            "[CV]  alpha=0.7, max_depth=9, n_estimators=900, subsample=0.8, score=-0.974, total= 5.8min\n",
            "[CV] alpha=0.7, max_depth=11, n_estimators=700, subsample=0.8 ........\n",
            "[CV]  alpha=0.7, max_depth=11, n_estimators=600, subsample=0.8, score=-0.976, total= 4.6min\n",
            "[CV] alpha=0.7, max_depth=11, n_estimators=800, subsample=0.8 ........\n",
            "[CV]  alpha=0.7, max_depth=11, n_estimators=600, subsample=0.8, score=-0.835, total= 4.6min\n",
            "[CV] alpha=0.7, max_depth=11, n_estimators=800, subsample=0.8 ........\n",
            "[CV]  alpha=0.7, max_depth=11, n_estimators=700, subsample=0.8, score=-0.947, total= 5.2min\n",
            "[CV] alpha=0.7, max_depth=11, n_estimators=800, subsample=0.8 ........\n",
            "[CV]  alpha=0.7, max_depth=11, n_estimators=700, subsample=0.8, score=-0.564, total= 5.2min\n",
            "[CV] alpha=0.7, max_depth=11, n_estimators=800, subsample=0.8 ........\n",
            "[CV]  alpha=0.7, max_depth=11, n_estimators=700, subsample=0.8, score=-0.834, total= 5.2min\n",
            "[CV] alpha=0.7, max_depth=11, n_estimators=900, subsample=0.8 ........\n",
            "[CV]  alpha=0.7, max_depth=11, n_estimators=700, subsample=0.8, score=-0.974, total= 5.2min\n",
            "[CV] alpha=0.7, max_depth=11, n_estimators=900, subsample=0.8 ........\n",
            "[CV]  alpha=0.7, max_depth=11, n_estimators=800, subsample=0.8, score=-0.948, total= 5.9min\n",
            "[CV] alpha=0.7, max_depth=11, n_estimators=900, subsample=0.8 ........\n",
            "[CV]  alpha=0.7, max_depth=11, n_estimators=800, subsample=0.8, score=-0.565, total= 5.9min\n",
            "[CV] alpha=0.7, max_depth=11, n_estimators=900, subsample=0.8 ........\n",
            "[CV]  alpha=0.7, max_depth=11, n_estimators=800, subsample=0.8, score=-0.835, total= 5.9min\n",
            "[CV]  alpha=0.7, max_depth=11, n_estimators=800, subsample=0.8, score=-0.979, total= 5.9min\n",
            "[CV]  alpha=0.7, max_depth=11, n_estimators=900, subsample=0.8, score=-0.954, total= 6.5min\n",
            "[CV]  alpha=0.7, max_depth=11, n_estimators=900, subsample=0.8, score=-0.561, total= 6.5min\n",
            "[CV]  alpha=0.7, max_depth=11, n_estimators=900, subsample=0.8, score=-0.833, total= 6.2min\n",
            "[CV]  alpha=0.7, max_depth=11, n_estimators=900, subsample=0.8, score=-0.980, total= 6.2min\n"
          ]
        },
        {
          "name": "stderr",
          "output_type": "stream",
          "text": [
            "[Parallel(n_jobs=6)]: Done  48 out of  48 | elapsed: 38.4min finished\n"
          ]
        },
        {
          "name": "stdout",
          "output_type": "stream",
          "text": [
            "4-CV best fit: {'alpha': 0.7, 'max_depth': 7, 'n_estimators': 900, 'subsample': 0.8} \n",
            "CV rmse 0.8137145032208839\n",
            "一次切分val RMSE:0.21310989953328213, R2:0.9974715709361928\n"
          ]
        }
      ],
      "source": [
        "# # Grid Search\n",
        "# param_test2 = {'n_estimators':range(600, 1001, 100),\n",
        "#                'max_depth':range(7, 12, 2),\n",
        "#                'subsample': [0.8],\n",
        "#                'alpha': [.7]\n",
        "#             #    'min_samples_split':range(2,5,2)\n",
        "#                }\n",
        "# kfold = 4\n",
        "# gsearch2 = GridSearchCV(estimator = GradientBoostingRegressor(random_state=10), \n",
        "#                        param_grid = param_test2, scoring='neg_root_mean_squared_error', \n",
        "#                        cv=kfold, \n",
        "#                        n_jobs = 6, \n",
        "#                        verbose=1)\n",
        "\n",
        "# # CV on all data, auto solit\n",
        "# gsearch2.fit(x_train_norm,y_train_origin)\n",
        "# print(f\"{kfold}-CV best fit:\", gsearch2.best_params_, \"\\nCV rmse\", - gsearch2.best_score_)\n",
        "\n",
        "\n",
        "# gbdt1 = gsearch2.best_estimator_\n",
        "\n",
        "# # predict\n",
        "# test_predict = gbdt1.predict(X_test_rf_drop)\n",
        "# test_predict = test_predict*1000000\n",
        "# res=pd.DataFrame(data=test_predict,columns=['Predicted'])\n",
        "# res['Id'] = res.index\n",
        "# res = res[['Id','Predicted']]\n",
        "\n",
        "# # output\n",
        "# res.to_csv(f'./predict/gbdt1.csv',index=False)\n"
      ]
    },
    {
      "cell_type": "code",
      "execution_count": null,
      "metadata": {
        "id": "6RrFhiqVYNMo"
      },
      "outputs": [],
      "source": [
        ""
      ]
    },
    {
      "cell_type": "markdown",
      "metadata": {
        "id": "pYwo9HGAYNMo"
      },
      "source": [
        "## XGBoost"
      ]
    },
    {
      "cell_type": "code",
      "execution_count": null,
      "metadata": {
        "id": "9ipFvK9IYNMo"
      },
      "outputs": [],
      "source": [
        "from xgboost.sklearn import XGBRegressor"
      ]
    },
    {
      "cell_type": "markdown",
      "metadata": {
        "id": "5k3kTw6cYNMp"
      },
      "source": [
        "### 1 load XGBoost parameters from local"
      ]
    },
    {
      "cell_type": "code",
      "execution_count": null,
      "metadata": {
        "id": "3DK3zCCFYNMp",
        "outputId": "db799c9b-f711-4647-b6ac-5978cccb3eaf"
      },
      "outputs": [
        {
          "name": "stdout",
          "output_type": "stream",
          "text": [
            "XGBRegressor(base_score=0.5, booster='gbtree', colsample_bylevel=1,\n",
            "             colsample_bynode=1, colsample_bytree=0.7, enable_categorical=False,\n",
            "             gamma=0.03, gpu_id=-1, importance_type=None,\n",
            "             interaction_constraints='', learning_rate=0.15, max_delta_step=0,\n",
            "             max_depth=7, min_child_weight=6, missing=nan,\n",
            "             monotone_constraints='()', n_estimators=1000, n_jobs=4, nthread=4,\n",
            "             num_parallel_tree=1, predictor='auto', random_state=0, reg_alpha=0,\n",
            "             reg_lambda=1, scale_pos_weight=1, subsample=0.5,\n",
            "             tree_method='exact', validate_parameters=1, verbosity=None)\n"
          ]
        }
      ],
      "source": [
        "xgb1 = joblib.load('models/xgb_date.model') # this model drop feature, date\n",
        "print(xgb1)"
      ]
    },
    {
      "cell_type": "code",
      "execution_count": null,
      "metadata": {
        "id": "_WOQho09YNMp"
      },
      "outputs": [],
      "source": [
        "# fit train before predict\n",
        "x_xgb_train = x_train_norm.drop([\"date_listed\"], axis=1)\n",
        "xgb1.fit(x_xgb_train, y_train_origin)\n",
        "\n",
        "# predict\n",
        "x_xgb_test = x_test_norm.drop([\"date_listed\"], axis=1) # drop the feature first\n",
        "\n",
        "test_predict = xgb1.predict(x_xgb_test)\n",
        "test_predict = test_predict*1000000\n",
        "res=pd.DataFrame(data=test_predict,columns=['Predicted'])\n",
        "res['Id'] = res.index\n",
        "res = res[['Id','Predicted']]\n",
        "\n",
        "\n",
        "file = 'xgb_drop_date'\n",
        "res.to_csv(f'./predict/{file}.csv',index=False)"
      ]
    },
    {
      "cell_type": "markdown",
      "metadata": {
        "id": "wQ5h2yi4YNMp"
      },
      "source": [
        "### 2 Or Train(grid search) from scratch\n",
        "\n",
        "Uncomment the cell!"
      ]
    },
    {
      "cell_type": "code",
      "execution_count": null,
      "metadata": {
        "execution": {
          "iopub.execute_input": "2022-04-04T17:27:56.012327Z",
          "iopub.status.busy": "2022-04-04T17:27:56.011491Z",
          "iopub.status.idle": "2022-04-04T17:27:56.017389Z",
          "shell.execute_reply": "2022-04-04T17:27:56.016507Z",
          "shell.execute_reply.started": "2022-04-04T17:27:56.012280Z"
        },
        "trusted": true,
        "id": "qkCXYCgcYNMp",
        "outputId": "63a6b387-103c-4cb3-82a7-310450132166"
      },
      "outputs": [
        {
          "name": "stdout",
          "output_type": "stream",
          "text": [
            "Fitting 3 folds for each of 576 candidates, totalling 1728 fits\n"
          ]
        },
        {
          "name": "stderr",
          "output_type": "stream",
          "text": [
            "[Parallel(n_jobs=5)]: Using backend LokyBackend with 5 concurrent workers.\n",
            "[Parallel(n_jobs=5)]: Done  40 tasks      | elapsed:  1.7min\n",
            "[Parallel(n_jobs=5)]: Done 190 tasks      | elapsed:  8.8min\n",
            "[Parallel(n_jobs=5)]: Done 440 tasks      | elapsed: 22.2min\n",
            "[Parallel(n_jobs=5)]: Done 790 tasks      | elapsed: 40.7min\n",
            "[Parallel(n_jobs=5)]: Done 1240 tasks      | elapsed: 68.8min\n",
            "[Parallel(n_jobs=5)]: Done 1728 out of 1728 | elapsed: 100.6min finished\n"
          ]
        },
        {
          "name": "stdout",
          "output_type": "stream",
          "text": [
            "-0.7234991335474642 squared error\n",
            "{'colsample_bytree': 0.7, 'gamma': 0.03, 'learning_rate': 0.15, 'max_depth': 7, 'min_child_weight': 6, 'n_estimators': 1000, 'nthread': 4, 'objective': 'reg:squarederror', 'subsample': 0.5}\n"
          ]
        }
      ],
      "source": [
        "# # import xgboost as xgb\n",
        "# # xgb.config_context(verbose=0)\n",
        "# from sklearn.model_selection import GridSearchCV\n",
        "\n",
        "# xgb1 = XGBRegressor()\n",
        "# parameters = {'nthread':[4], #when use hyperthread, xgboost may become slower\n",
        "#               'objective':['reg:squarederror'], # 似乎没有R^2可以选\n",
        "#               'learning_rate': [0.15, 0.2], #so called `eta` value, 默认：0.3。别名：learning_rate。\n",
        "#             # 用于防止过拟合。在每个提升步骤之后，eta缩小特征权重以使提升过程更加健壮。\n",
        "#               'max_depth': [5, 6, 7], # 过拟合\n",
        "#               'min_child_weight': [4, 6], # 决定最小叶子节点样本权重和。用于避免过拟合。当它的值较大时，\n",
        "#               'subsample': [0.5, 0.7], # 减小这个参数的值，算法会更加保守，避免过拟合, 0.5~1\n",
        "#               'gamma': [0.02, 0.03], # 节点分裂所需的最小损失函数下降值。这个参数的值越大，算法越保守\n",
        "#               'colsample_bytree': [0.5, 0.7], # 0.5-1\n",
        "#               'n_estimators': range(500,1001,100),\n",
        "#               }\n",
        "\n",
        "# xgb_grid = GridSearchCV(xgb1,\n",
        "#                         parameters,\n",
        "#                         cv = kfold,\n",
        "#                         n_jobs = 5,\n",
        "#                         verbose=1,\n",
        "#                         scoring='neg_root_mean_squared_error'\n",
        "#                         )\n",
        "\n",
        "# xgb_grid.fit(x_train_norm,y_train_origin)\n",
        "\n",
        "# xgb1 = xgb_grid.best_estimator_\n",
        "\n",
        "# print('squared error', -xgb_grid.best_score_) \n",
        "# print(xgb_grid.best_params_)\n",
        "\n",
        "# joblib.dump(xgb1, './models/xgb.model');"
      ]
    },
    {
      "cell_type": "code",
      "execution_count": null,
      "metadata": {
        "id": "WdbzM1CXYNMq"
      },
      "outputs": [],
      "source": [
        "# predict ...."
      ]
    },
    {
      "cell_type": "markdown",
      "source": [
        "## LightGBM"
      ],
      "metadata": {
        "id": "jLz_gRWycTpQ"
      }
    },
    {
      "cell_type": "markdown",
      "source": [
        "### 1 load LGB parameters from local"
      ],
      "metadata": {
        "id": "OmexcxYmgvXl"
      }
    },
    {
      "cell_type": "code",
      "source": [
        "gbm = joblib.load('models/gbm.model') # this model drop feature, date\n",
        "print(gbm)"
      ],
      "metadata": {
        "colab": {
          "base_uri": "https://localhost:8080/"
        },
        "id": "F3x0oDFxgkud",
        "outputId": "ab6145e2-5ba3-4086-9f11-42a35588342d"
      },
      "execution_count": 26,
      "outputs": [
        {
          "output_type": "stream",
          "name": "stdout",
          "text": [
            "LGBMRegressor(learning_rate=0.5, max_depth=12, metric='rmsle',\n",
            "              objective='regression', verbose=0)\n"
          ]
        }
      ]
    },
    {
      "cell_type": "code",
      "source": [
        "# fit train before predict\n",
        "x_lgb_train = x_train_norm.drop([\"date_listed\"], axis=1)\n",
        "gbm.fit(x_lgb_train, y_train_origin)\n",
        "\n",
        "# predict\n",
        "x_lgb_test = x_test_norm.drop([\"date_listed\"], axis=1) # drop the feature first\n",
        "\n",
        "test_predict = gbm.predict(x_lgb_test)\n",
        "test_predict = test_predict*1000000\n",
        "res=pd.DataFrame(data=test_predict,columns=['Predicted'])\n",
        "res['Id'] = res.index\n",
        "res = res[['Id','Predicted']]\n",
        "\n",
        "\n",
        "file = 'lgb_drop_date'\n",
        "res.to_csv(f'./predict/{file}.csv',index=False)"
      ],
      "metadata": {
        "id": "8aXcrbfyhBpi"
      },
      "execution_count": 27,
      "outputs": []
    },
    {
      "cell_type": "markdown",
      "source": [
        "### 2 Or Train(grid search) from scratch\n",
        "\n",
        "Uncomment the cell!"
      ],
      "metadata": {
        "id": "GVrhSSgvg0iv"
      }
    },
    {
      "cell_type": "code",
      "source": [
        "# import lightgbm as lgb\n",
        "# params = {\n",
        "#     'boosting_type': ['gbdt'],\n",
        "#     'objective': ['regression'],\n",
        "#     'metric': ['rmsle'],\n",
        "#     'max_depth': range(8,20,4), \n",
        "#     'learning_rate': [0.1,0.5],\n",
        "#     'verbose': [0]}\n",
        "\n",
        "\n",
        "# gbm = lgb.LGBMRegressor()\n",
        "\n",
        "# kfold=3\n",
        "# gsearch = GridSearchCV(gbm, param_grid=params, cv=kfold)\n",
        "# gsearch.fit(x_train_norm, y_train_origin)\n",
        "\n",
        "# gbm =  gsearch.best_estimator_\n",
        "\n",
        "# print(gsearch.best_estimator_)\n",
        "# print(gsearch.best_score_)\n",
        "\n",
        "# joblib.dump(gbm, './models/gbm.model')\n"
      ],
      "metadata": {
        "colab": {
          "base_uri": "https://localhost:8080/"
        },
        "id": "xBbhLTf9duph",
        "outputId": "1fb1e7c1-b9af-46ea-bd1d-2bd3860f9f67"
      },
      "execution_count": 25,
      "outputs": [
        {
          "output_type": "stream",
          "name": "stdout",
          "text": [
            "LGBMRegressor(learning_rate=0.5, max_depth=12, metric='rmsle',\n",
            "              objective='regression', verbose=0)\n",
            "0.970236922232257\n"
          ]
        },
        {
          "output_type": "execute_result",
          "data": {
            "text/plain": [
              "['/content/model/gbm.model']"
            ]
          },
          "metadata": {},
          "execution_count": 25
        }
      ]
    },
    {
      "cell_type": "code",
      "source": [
        ""
      ],
      "metadata": {
        "id": "IRauQz3bdu9l"
      },
      "execution_count": null,
      "outputs": []
    }
  ],
  "metadata": {
    "interpreter": {
      "hash": "b2c160ae0b5927c6ec75be04e5edb69e6ff9d7054590c8c5a96361fd155333fb"
    },
    "kernelspec": {
      "display_name": "Julia 1.5.2",
      "language": "python",
      "name": "python3"
    },
    "language_info": {
      "codemirror_mode": {
        "name": "ipython",
        "version": 3
      },
      "file_extension": ".py",
      "mimetype": "text/x-python",
      "name": "python",
      "nbconvert_exporter": "python",
      "pygments_lexer": "ipython3",
      "version": "3.8.12"
    },
    "colab": {
      "name": "2norm_enc_model.ipynb",
      "provenance": [],
      "collapsed_sections": [],
      "toc_visible": true
    }
  },
  "nbformat": 4,
  "nbformat_minor": 0
}