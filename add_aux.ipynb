{
 "cells": [
  {
   "cell_type": "code",
   "execution_count": 1,
   "metadata": {},
   "outputs": [],
   "source": [
    "# This Python 3 environment comes with many helpful analytics libraries installed\n",
    "# It is defined by the kaggle/python Docker image: https://github.com/kaggle/docker-python\n",
    "# For example, here's several helpful packages to load\n",
    "\n",
    "import numpy as np # linear algebra\n",
    "import pandas as pd # data processing, CSV file I/O (e.g. pd.read_csv)\n",
    "import seaborn as sns\n",
    "import matplotlib.pyplot as plt\n",
    "\n",
    "from scipy import stats\n",
    "from scipy.stats import norm\n",
    "\n",
    "# Input data files are available in the read-only \"../input/\" directory\n",
    "# For example, running this (by clicking run or pressing Shift+Enter) will list all files under the input directory\n",
    "\n",
    "# import os\n",
    "# for dirname, _, filenames in os.walk('/kaggle/input'):\n",
    "#     for filename in filenames:\n",
    "#         print(os.path.join(dirname, filename))\n",
    "\n",
    "# You can write up to 20GB to the current directory (/kaggle/working/) that gets preserved as output when you create a version using \"Save & Run All\" \n",
    "# You can also write temporary files to /kaggle/temp/, but they won't be saved outside of the current session"
   ]
  },
  {
   "cell_type": "code",
   "execution_count": 2,
   "metadata": {},
   "outputs": [],
   "source": [
    "train_df = pd.read_csv('./train.csv')\n",
    "test_df = pd.read_csv('./test.csv')"
   ]
  },
  {
   "cell_type": "code",
   "execution_count": 5,
   "metadata": {},
   "outputs": [
    {
     "name": "stdout",
     "output_type": "stream",
     "text": [
      "['sg-gov-markets-hawker-centres.csv', 'sg-commerical-centres.csv', 'sg-primary-schools.csv', 'sg-shopping-malls.csv', 'sg-secondary-schools.csv', 'sg-train-stations.csv']\n"
     ]
    }
   ],
   "source": [
    "import os\n",
    "path = './auxiliary-data/auxiliary-data'\n",
    "auxdata_namelist = os.listdir(path)\n",
    "print(auxdata_namelist)"
   ]
  },
  {
   "cell_type": "markdown",
   "metadata": {},
   "source": [
    "#  Famous Primary School"
   ]
  },
  {
   "cell_type": "code",
   "execution_count": 7,
   "metadata": {},
   "outputs": [],
   "source": [
    "from geopy.distance import geodesic\n",
    "\n",
    "famous_pschl = ['Nanyang Primary School','Catholic High School (Primary)','Tao Nan School','Nan Hua Primary School','St. Hilda\\'s Primary School','Henry Park Primary School','Anglo-Chinese School (Primary)','Raffles Girls\\' Primary School','Pei Hwa Presbyterian Primary School','CHIJ St Nicholas Girls\\' School']\n"
   ]
  },
  {
   "cell_type": "code",
   "execution_count": 8,
   "metadata": {},
   "outputs": [
    {
     "data": {
      "text/html": [
       "<div>\n",
       "<style scoped>\n",
       "    .dataframe tbody tr th:only-of-type {\n",
       "        vertical-align: middle;\n",
       "    }\n",
       "\n",
       "    .dataframe tbody tr th {\n",
       "        vertical-align: top;\n",
       "    }\n",
       "\n",
       "    .dataframe thead th {\n",
       "        text-align: right;\n",
       "    }\n",
       "</style>\n",
       "<table border=\"1\" class=\"dataframe\">\n",
       "  <thead>\n",
       "    <tr style=\"text-align: right;\">\n",
       "      <th></th>\n",
       "      <th>name</th>\n",
       "      <th>lat</th>\n",
       "      <th>lng</th>\n",
       "    </tr>\n",
       "  </thead>\n",
       "  <tbody>\n",
       "    <tr>\n",
       "      <th>7</th>\n",
       "      <td>Anglo-Chinese School (Primary)</td>\n",
       "      <td>1.318752</td>\n",
       "      <td>103.835077</td>\n",
       "    </tr>\n",
       "    <tr>\n",
       "      <th>23</th>\n",
       "      <td>Catholic High School (Primary)</td>\n",
       "      <td>1.354928</td>\n",
       "      <td>103.844988</td>\n",
       "    </tr>\n",
       "    <tr>\n",
       "      <th>70</th>\n",
       "      <td>Henry Park Primary School</td>\n",
       "      <td>1.317057</td>\n",
       "      <td>103.784216</td>\n",
       "    </tr>\n",
       "    <tr>\n",
       "      <th>101</th>\n",
       "      <td>Nan Hua Primary School</td>\n",
       "      <td>1.306517</td>\n",
       "      <td>103.764771</td>\n",
       "    </tr>\n",
       "    <tr>\n",
       "      <th>102</th>\n",
       "      <td>Nanyang Primary School</td>\n",
       "      <td>1.320832</td>\n",
       "      <td>103.808217</td>\n",
       "    </tr>\n",
       "  </tbody>\n",
       "</table>\n",
       "</div>"
      ],
      "text/plain": [
       "                               name       lat         lng\n",
       "7    Anglo-Chinese School (Primary)  1.318752  103.835077\n",
       "23   Catholic High School (Primary)  1.354928  103.844988\n",
       "70        Henry Park Primary School  1.317057  103.784216\n",
       "101          Nan Hua Primary School  1.306517  103.764771\n",
       "102          Nanyang Primary School  1.320832  103.808217"
      ]
     },
     "execution_count": 8,
     "metadata": {},
     "output_type": "execute_result"
    }
   ],
   "source": [
    "auxiliary_df_pschl = pd.read_csv(os.path.join(path,'sg-primary-schools.csv'))\n",
    "pschl_famous_df = auxiliary_df_pschl[ auxiliary_df_pschl['name'].isin(famous_pschl)]\n",
    "pschl_famous_df.head()"
   ]
  },
  {
   "cell_type": "code",
   "execution_count": 9,
   "metadata": {},
   "outputs": [],
   "source": [
    "pschl_famous_ary = np.array(pschl_famous_df[['lat','lng']])\n",
    "def famous_pschl_distance(lat,lng):\n",
    "    dist_ = []\n",
    "    for i in pschl_famous_ary:\n",
    "        dist_.append(geodesic((lat,lng),i).km)\n",
    "    \n",
    "    return sum(d<=2 for d in dist_)"
   ]
  },
  {
   "cell_type": "code",
   "execution_count": 10,
   "metadata": {},
   "outputs": [
    {
     "data": {
      "text/plain": [
       "0    17483\n",
       "1     7427\n",
       "2      822\n",
       "3      316\n",
       "Name: no_of_nearest_famous_pshcl, dtype: int64"
      ]
     },
     "execution_count": 10,
     "metadata": {},
     "output_type": "execute_result"
    }
   ],
   "source": [
    "train_df['no_of_nearest_famous_pshcl'] = train_df.apply(lambda row: famous_pschl_distance(row['lat'],row['lng']),axis=1)\n",
    "train_df['no_of_nearest_famous_pshcl'].value_counts()"
   ]
  },
  {
   "cell_type": "code",
   "execution_count": 11,
   "metadata": {},
   "outputs": [
    {
     "data": {
      "text/plain": [
       "0    4979\n",
       "1    2199\n",
       "2     244\n",
       "3      78\n",
       "Name: no_of_nearest_famous_pshcl, dtype: int64"
      ]
     },
     "execution_count": 11,
     "metadata": {},
     "output_type": "execute_result"
    }
   ],
   "source": [
    "test_df['no_of_nearest_famous_pshcl'] = test_df.apply(lambda row: famous_pschl_distance(row['lat'],row['lng']),axis=1)\n",
    "test_df['no_of_nearest_famous_pshcl'].value_counts()"
   ]
  },
  {
   "cell_type": "markdown",
   "metadata": {},
   "source": [
    "# define the acceptable distance"
   ]
  },
  {
   "cell_type": "code",
   "execution_count": 12,
   "metadata": {},
   "outputs": [
    {
     "name": "stdout",
     "output_type": "stream",
     "text": [
      "============================== sg-commerical-centres.csv ==============================\n",
      "-----train_df------\n",
      "2    7615\n",
      "3    6843\n",
      "1    5928\n",
      "0    2714\n",
      "4    1101\n",
      "7     814\n",
      "5     556\n",
      "6     477\n",
      "Name: no_of_nearest_commerical, dtype: int64\n",
      "-----test_df------\n",
      "2    2162\n",
      "3    1945\n",
      "1    1769\n",
      "0     787\n",
      "4     329\n",
      "7     219\n",
      "5     156\n",
      "6     133\n",
      "Name: no_of_nearest_commerical, dtype: int64\n",
      "============================== sg-gov-markets-hawker-centres.csv ==============================\n",
      "-----train_df------\n",
      "0    18884\n",
      "1     5507\n",
      "2     1414\n",
      "3      129\n",
      "4      110\n",
      "5        4\n",
      "Name: no_of_nearest_gov, dtype: int64\n",
      "-----test_df------\n",
      "0    5450\n",
      "1    1587\n",
      "2     385\n",
      "4      38\n",
      "3      35\n",
      "5       5\n",
      "Name: no_of_nearest_gov, dtype: int64\n",
      "============================== sg-train-stations.csv ==============================\n",
      "-----train_df------\n",
      "1     7291\n",
      "2     7250\n",
      "0     4660\n",
      "3     2389\n",
      "6     1652\n",
      "5      901\n",
      "4      653\n",
      "7      513\n",
      "9      465\n",
      "8      235\n",
      "10      39\n",
      "Name: no_of_nearest_train, dtype: int64\n",
      "-----test_df------\n",
      "2     2143\n",
      "1     2058\n",
      "0     1312\n",
      "3      685\n",
      "6      489\n",
      "5      241\n",
      "4      205\n",
      "7      159\n",
      "9      136\n",
      "8       65\n",
      "10       7\n",
      "Name: no_of_nearest_train, dtype: int64\n",
      "============================== sg-shopping-malls.csv ==============================\n",
      "-----train_df------\n",
      "7     3029\n",
      "6     1574\n",
      "8     1550\n",
      "10    1303\n",
      "13    1209\n",
      "      ... \n",
      "2       31\n",
      "22      22\n",
      "21      20\n",
      "20      16\n",
      "19       7\n",
      "Name: no_of_nearest_shopping, Length: 66, dtype: int64\n",
      "-----test_df------\n",
      "7     848\n",
      "6     449\n",
      "8     437\n",
      "13    393\n",
      "10    354\n",
      "     ... \n",
      "25      7\n",
      "59      6\n",
      "2       5\n",
      "21      3\n",
      "19      1\n",
      "Name: no_of_nearest_shopping, Length: 66, dtype: int64\n",
      "============================== sg-primary-schools.csv ==============================\n",
      "-----train_df------\n",
      "2     5380\n",
      "4     4656\n",
      "3     4003\n",
      "1     3823\n",
      "5     2156\n",
      "0     1940\n",
      "6     1709\n",
      "7     1171\n",
      "9      421\n",
      "8      359\n",
      "13     151\n",
      "10     120\n",
      "11      96\n",
      "12      63\n",
      "Name: no_of_nearest_primary, dtype: int64\n",
      "-----test_df------\n",
      "2     1595\n",
      "4     1387\n",
      "3     1160\n",
      "1     1062\n",
      "5      617\n",
      "0      520\n",
      "6      481\n",
      "7      343\n",
      "9      133\n",
      "8       89\n",
      "13      43\n",
      "11      33\n",
      "10      24\n",
      "12      13\n",
      "Name: no_of_nearest_primary, dtype: int64\n",
      "============================== sg-secondary-schools.csv ==============================\n",
      "-----train_df------\n",
      "10    3561\n",
      "8     2892\n",
      "6     2155\n",
      "7     2004\n",
      "5     1915\n",
      "9     1906\n",
      "11    1811\n",
      "4     1612\n",
      "12    1492\n",
      "2     1325\n",
      "3      967\n",
      "14     896\n",
      "13     889\n",
      "15     703\n",
      "16     667\n",
      "0      451\n",
      "18     274\n",
      "17     260\n",
      "19     231\n",
      "20      18\n",
      "22      11\n",
      "1        6\n",
      "21       2\n",
      "Name: no_of_nearest_secondary, dtype: int64\n",
      "-----test_df------\n",
      "10    1026\n",
      "8      890\n",
      "6      581\n",
      "7      577\n",
      "5      570\n",
      "9      547\n",
      "11     543\n",
      "4      472\n",
      "12     425\n",
      "2      376\n",
      "3      261\n",
      "13     254\n",
      "14     252\n",
      "16     204\n",
      "15     181\n",
      "0      115\n",
      "18      82\n",
      "17      66\n",
      "19      63\n",
      "20      10\n",
      "22       4\n",
      "1        1\n",
      "Name: no_of_nearest_secondary, dtype: int64\n"
     ]
    }
   ],
   "source": [
    "fac_tolerant_dist = {'sg-commerical-centres.csv': 3,\n",
    "                          'sg-gov-markets-hawker-centres.csv': 0.5,\n",
    "                          'sg-train-stations.csv': 1,\n",
    "                          'sg-shopping-malls.csv': 3,\n",
    "                          'sg-primary-schools.csv': 1.5,\n",
    "                          'sg-secondary-schools.csv': 3}\n",
    "\n",
    "def cal_dist(lat,lng,fac_loc_ary,tolerant_dist):\n",
    "    dist_ = []\n",
    "    for i in fac_loc_ary:\n",
    "        dist_.append(geodesic((lat,lng),i).km)\n",
    "    \n",
    "    return sum(d<=tolerant_dist for d in dist_)\n",
    "\n",
    "for fac_csvname in fac_tolerant_dist.keys():\n",
    "    print(\"=\"*30,fac_csvname,\"=\"*30)\n",
    "    facility_df = pd.read_csv(os.path.join(path,fac_csvname))\n",
    "    fac_loc_ary = np.array(facility_df[['lat','lng']])\n",
    "    row_name = fac_csvname.split(\".\")[0].split('-')[1]\n",
    "    train_df['no_of_nearest_'+row_name] = train_df.apply(lambda row: cal_dist(row['lat'],row['lng'],fac_loc_ary,fac_tolerant_dist[fac_csvname]),axis=1)\n",
    "    test_df['no_of_nearest_'+row_name] = test_df.apply(lambda row: cal_dist(row['lat'],row['lng'],fac_loc_ary,fac_tolerant_dist[fac_csvname]),axis=1)\n",
    "    print(\"-----train_df------\")\n",
    "    print(train_df['no_of_nearest_'+row_name].value_counts())\n",
    "    print(\"-----test_df------\")\n",
    "    print(test_df['no_of_nearest_'+row_name].value_counts())       \n"
   ]
  },
  {
   "cell_type": "code",
   "execution_count": 14,
   "metadata": {},
   "outputs": [],
   "source": [
    "train_df.to_csv('./train_add_aux.csv',index=False)\n",
    "test_df.to_csv('./test_add_aux.csv',index=False)"
   ]
  },
  {
   "cell_type": "code",
   "execution_count": null,
   "metadata": {},
   "outputs": [],
   "source": []
  }
 ],
 "metadata": {
  "kernelspec": {
   "display_name": "Python 3",
   "language": "python",
   "name": "python3"
  },
  "language_info": {
   "codemirror_mode": {
    "name": "ipython",
    "version": 3
   },
   "file_extension": ".py",
   "mimetype": "text/x-python",
   "name": "python",
   "nbconvert_exporter": "python",
   "pygments_lexer": "ipython3",
   "version": "3.7.1"
  },
  "toc": {
   "base_numbering": 1,
   "nav_menu": {},
   "number_sections": true,
   "sideBar": true,
   "skip_h1_title": false,
   "title_cell": "Table of Contents",
   "title_sidebar": "Contents",
   "toc_cell": false,
   "toc_position": {},
   "toc_section_display": true,
   "toc_window_display": true
  }
 },
 "nbformat": 4,
 "nbformat_minor": 2
}
